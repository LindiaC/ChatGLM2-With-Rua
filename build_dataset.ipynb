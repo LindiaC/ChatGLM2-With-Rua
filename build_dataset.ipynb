{
 "cells": [
  {
   "cell_type": "code",
   "execution_count": 1,
   "metadata": {},
   "outputs": [],
   "source": [
    "import pandas as pd\n",
    "import json\n",
    "import os\n"
   ]
  },
  {
   "cell_type": "code",
   "execution_count": null,
   "metadata": {},
   "outputs": [],
   "source": [
    "\n",
    "file_path = 'messages.csv'\n",
    "data = pd.read_csv(file_path)\n",
    "data = data.dropna(subset='StrContent')\n",
    "data = data.sort_values('TalkerId')\n",
    "data = data.reset_index(drop=True)\n",
    "print(\"all non-empty messages: \", data.shape[0])\n",
    "\n",
    "filtered_data = data[(data['Type'] == 1) & (data['SubType'] == 0) & (data['IsSender'] == 1)]\n",
    "print(\"among them, I sent: \",filtered_data.shape[0])"
   ]
  },
  {
   "cell_type": "code",
   "execution_count": null,
   "metadata": {},
   "outputs": [],
   "source": [
    "\n",
    "# build the result list\n",
    "result_list = []\n",
    "for index, row in filtered_data.iterrows():\n",
    "    #Take out a message I sent.\n",
    "\n",
    "    if index > 0:  \n",
    "        #!!! force to keep long responses\n",
    "        if len(row['StrContent'])<=5:\n",
    "            continue \n",
    "\n",
    "\n",
    "        try:\n",
    "            prev_row = data.iloc[index - 1]\n",
    "            #If the message above it is in the same dialogue and not empty, then add it in a context form.\n",
    "        \n",
    "            \n",
    "\n",
    "            if prev_row['TalkerId'] == row['TalkerId']:\n",
    "                content_dict = {\n",
    "                \"content\": prev_row['StrContent'],\n",
    "                \"summary\": row['StrContent']\n",
    "                }\n",
    "            else:\n",
    "                content_dict = {\n",
    "                \"content\":  \"\",\n",
    "                \"summary\": row['StrContent']\n",
    "                }\n",
    "        except Exception:\n",
    "            content_dict = {\n",
    "            \"content\": \"\",\n",
    "            \"summary\": row['StrContent']\n",
    "            }\n",
    "\n",
    "        js = json.dumps(content_dict, ensure_ascii=False)\n",
    "        result_list.append(js)\n",
    "print(\"After cleaning: \", len(result_list))\n",
    "\n",
    "\n",
    "train_file = 'train.json'\n",
    "with open(train_file, 'w', encoding='utf-8',) as f:\n",
    "    for content_dict in result_list:\n",
    "        f.write(content_dict + '\\n')\n",
    "    f.close()\n",
    "        \n",
    "val_file = 'dev.json'\n",
    "with open(val_file, 'w', encoding='utf-8',) as f:\n",
    "    # validation set is not important in this training process, so I just made up one\n",
    "    f.write(\"{\\\"content\\\": \\\"我爱你\\\", \\\"summary\\\": \\\"我也爱你\\\"}\" + '\\n')\n",
    "    f.close()\n"
   ]
  }
 ],
 "metadata": {
  "kernelspec": {
   "display_name": "base",
   "language": "python",
   "name": "python3"
  },
  "language_info": {
   "codemirror_mode": {
    "name": "ipython",
    "version": 3
   },
   "file_extension": ".py",
   "mimetype": "text/x-python",
   "name": "python",
   "nbconvert_exporter": "python",
   "pygments_lexer": "ipython3",
   "version": "3.11.5"
  }
 },
 "nbformat": 4,
 "nbformat_minor": 2
}
